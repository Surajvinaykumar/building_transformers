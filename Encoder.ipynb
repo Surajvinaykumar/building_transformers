{
  "nbformat": 4,
  "nbformat_minor": 0,
  "metadata": {
    "colab": {
      "provenance": []
    },
    "kernelspec": {
      "name": "python3",
      "display_name": "Python 3"
    },
    "language_info": {
      "name": "python"
    }
  },
  "cells": [
    {
      "cell_type": "code",
      "source": [
        "class Encoder(nn.Module):\n",
        "  def __init__(self, src_vocab_size, embed_size, num_layers, head, device, forward_expansion, dropout, max_length): #all these are hyper parameters\n",
        "    super(Encoder, self).__init()\n",
        "    self.embed_size = embed_size\n",
        "    self.device = device\n",
        "    self.word_embeddings = nn.Embedding(src_vocab_size, embed_size)\n",
        "    self.postion_embedding = nn.Embedding(max_length, embed_size)\n",
        "\n",
        "    self.layers = nn.ModuleList(\n",
        "        [\n",
        "            TransformerBlock(\n",
        "                embed_size,\n",
        "                heads,\n",
        "                dropout = dropout,\n",
        "                forward_expansion = forward_expansion,\n",
        "            )\n",
        "        ]\n",
        "    )\n",
        "    self.dropout = nn.Dropout(dropout)\n",
        "\n",
        "    def forward(self, x, mask):\n",
        "      N, seq_length = x.shape\n",
        "      positions = torch.arange(0, seq_length).expand(N, seq_length).to(self.device)\n",
        "      out = self.word_embeddings(x) + self.position_embedding(positions)\n",
        "      for layer in self.layers:\n",
        "        out = layer(out,out,out, mask)\n",
        "      return out"
      ],
      "metadata": {
        "id": "rABxqopI1f6X"
      },
      "execution_count": null,
      "outputs": []
    }
  ]
}